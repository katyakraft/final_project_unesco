{
 "cells": [
  {
   "cell_type": "code",
   "execution_count": 445,
   "metadata": {},
   "outputs": [],
   "source": [
    "import pandas as pd\n",
    "import numpy as np\n",
    "import json\n",
    "import zipfile\n",
    "import os\n",
    "import kaggle\n",
    "\n",
    "from kaggle.api.kaggle_api_extended import KaggleApi\n",
    "api = KaggleApi()\n",
    "api.authenticate()"
   ]
  },
  {
   "cell_type": "code",
   "execution_count": 446,
   "metadata": {},
   "outputs": [],
   "source": [
    "import statsmodels.api as sm\n",
    "import matplotlib.pyplot as plt\n",
    "from scipy.stats import pearsonr\n",
    "from scipy.stats import spearmanr\n",
    "from scipy.stats import ttest_ind\n",
    "from scipy.stats import ttest_rel\n",
    "import seaborn as sns"
   ]
  },
  {
   "cell_type": "code",
   "execution_count": 499,
   "metadata": {},
   "outputs": [],
   "source": [
    "pd.set_option('display.max_colwidth', None) \n",
    "pd.set_option('display.max_columns', None)\n",
    "pd.set_option('display.max_rows', None)"
   ]
  },
  {
   "cell_type": "code",
   "execution_count": null,
   "metadata": {},
   "outputs": [],
   "source": [
    "!kaggle datasets list -s 'Heritage'\n",
    "!kaggle datasets download -d 'joebeachcapital/unesco-world-heritage-sites'\n",
    "!unzip joebeachcapital/unesco-world-heritage-sites.zip\n",
    "df1 = pd.read_csv('joebeachcapital/unesco-world-heritage-sites.csv')"
   ]
  },
  {
   "cell_type": "code",
   "execution_count": null,
   "metadata": {},
   "outputs": [],
   "source": [
    "!kaggle datasets download -d 'joebeachcapital/unesco-world-heritage-sites' --force"
   ]
  },
  {
   "cell_type": "code",
   "execution_count": null,
   "metadata": {},
   "outputs": [],
   "source": [
    "!unzip /Users/katyakraft/unesco-world-heritage-sites.zip -d /Users/katyakraft/unesco-world-heritage-sites"
   ]
  },
  {
   "cell_type": "code",
   "execution_count": 451,
   "metadata": {},
   "outputs": [],
   "source": [
    "df = pd.read_csv('/Users/katyakraft/unesco-world-heritage-sites/whc-sites-2023.csv')"
   ]
  },
  {
   "cell_type": "code",
   "execution_count": null,
   "metadata": {},
   "outputs": [],
   "source": [
    "df.drop(columns= [\"rev_bis\", \"unique_number\", \"id_no\", \"name_fr\", \"short_description_en\", \"short_description_fr\", \"justification_en\", \"justification_fr\", \"criteria_txt\", \"category_short\", \"states_name_fr\", \"region_en\", \"region_fr\", \"udnp_code\", \"transboundary\", \"secondary_dates\", \"danger\", \"date_end\", \"danger_list\", \"longitude\", \"latitude\", \"area_hectares\",\"C1\", \"C2\", \"C3\", \"C4\", \"C5\", \"C6\", \"N7\", \"N8\", \"N9\", \"N10\"], inplace = True)\n",
    "df = df.rename(columns={\"name_en\": \"name\", \"states_name_en\": \"country\"})\n",
    "df = df[[\"iso_code\", \"country\", \"name\", \"date_inscribed\", \"category\"]]"
   ]
  },
  {
   "cell_type": "code",
   "execution_count": 453,
   "metadata": {},
   "outputs": [],
   "source": [
    "df.groupby(\"country\")\n",
    "df['iso_code'] = df['iso_code'].str.split(',')\n",
    "df['country'] = df['country'].str.split(',')\n",
    "df = df.explode(['iso_code', 'country']).reset_index(drop=True)\n",
    "df['iso_code'] = df['iso_code'].str.upper()"
   ]
  },
  {
   "cell_type": "code",
   "execution_count": 455,
   "metadata": {},
   "outputs": [],
   "source": [
    "df['country'] = df['country'].replace({\n",
    "    'Bolivia (Plurinational State of)': 'Bolivia',\n",
    "    'Congo': 'Congo, Dem. Rep.',\n",
    "    'Czechia': 'Czech Republic',\n",
    "    'Egypt': 'Egypt, Arab Rep.',\n",
    "    'Gambia': 'Gambia, The',\n",
    "    'Iran (Islamic Republic of)': 'Iran, Islamic Rep.',\n",
    "    'Republic of Korea': 'Korea, Rep.',\n",
    "    'Kyrgyzstan': 'Kyrgyz Republic',\n",
    "    \"Lao People's Democratic Republic\": 'Lao PDR',\n",
    "    'Micronesia (Federated States of)': 'Micronesia, Fed. Sts.',\n",
    "    'Republic of Moldova': 'Moldova',\n",
    "    'United Kingdom of Great Britain and Northern Ireland': 'United Kingdom',\n",
    "    'United Republic of Tanzania': 'Tanzania',\n",
    "    'United States of America': 'United States',\n",
    "    'Venezuela (Bolivarian Republic of)': 'Venezuela, RB',\n",
    "    'Viet Nam': 'Vietnam',\n",
    "    'Yemen': 'Yemen, Rep.',\n",
    "    'Türkiye': 'Turkey'\n",
    "})"
   ]
  },
  {
   "cell_type": "code",
   "execution_count": null,
   "metadata": {},
   "outputs": [],
   "source": [
    "df_country_counts = df.groupby('country').agg(\n",
    "    site_count=('name', 'size'),                   \n",
    "    date_inscribed=('date_inscribed', lambda x: ', '.join(map(str, sorted(x)))),  # All inscription dates as a string\n",
    ").reset_index()  \n",
    "df_country_counts = df_country_counts.sort_values(by='country', ascending=True).reset_index(drop=True)\n",
    "df_country_counts.head()"
   ]
  },
  {
   "cell_type": "code",
   "execution_count": 469,
   "metadata": {},
   "outputs": [],
   "source": [
    "df_arrivals = pd.read_csv('/Users/katyakraft/Documents/IronHack/Final_project/API_ST.INT.ARVL_DS2_en_csv_v2_1927083.csv')"
   ]
  },
  {
   "cell_type": "code",
   "execution_count": null,
   "metadata": {},
   "outputs": [],
   "source": [
    "df_arrivals = df_arrivals.loc[:, ~df_arrivals.columns.isin(map(str, range(1960, 2007)))]\n",
    "df_arrivals = df_arrivals.drop(columns=[\"2019\", \"2020\"])\n",
    "new_column_names = {f\"{year}\": f\"arrivals_{year}\" for year in range(2007, 2019)}\n",
    "new_column_names[\"Country Name\"] = \"country\"\n",
    "df_arrivals = df_arrivals.rename(columns=new_column_names)\n",
    "df_arrivals.columns = df_arrivals.columns.str.replace(' ', '_').str.lower()\n",
    "arrival_columns = [f'arrivals_{year}' for year in range(2007, 2019)]\n",
    "df_arrivals['total_arrivals'] = df_arrivals[arrival_columns].sum(axis=1)\n",
    "df_arrivals = df_arrivals.fillna(0)"
   ]
  },
  {
   "cell_type": "code",
   "execution_count": 471,
   "metadata": {},
   "outputs": [],
   "source": [
    "# Drop not relevant data like regions. \n",
    "df_arrivals.drop([5, 32, 34, 47, 59, 60, 61, 62, 63, 66, 71, 72, 93, 96, 100, 101, 102, 103, 105, 108, 126, 132, 133, 134, 137, 138, 140, 145, 151, 154, 159, 168, 179, 181, 189, 195, 196, 202, 213, 215, 216, 228, 229 ,234, 236, 238, 239, 247, 257], inplace=True)\n",
    "pd.set_option('display.float_format', '{:.0f}'.format)"
   ]
  },
  {
   "cell_type": "code",
   "execution_count": null,
   "metadata": {},
   "outputs": [],
   "source": [
    "df_combined = pd.merge(df_country_counts, df_arrivals, on='country', how='outer')\n",
    "df_combined = df_combined.fillna(\"0\")"
   ]
  },
  {
   "cell_type": "markdown",
   "metadata": {},
   "source": [
    "NEW Dataframe with all date_inscribed per country"
   ]
  },
  {
   "cell_type": "code",
   "execution_count": null,
   "metadata": {},
   "outputs": [],
   "source": [
    "df_country_counts_2 = pd.DataFrame(df_country_counts)\n",
    "\n",
    "# Years to create columns for\n",
    "years = range(2007, 2019)\n",
    "\n",
    "# Create columns for each year, initialized to 0 or False\n",
    "for year in years:\n",
    "    df_country_counts_2[f'inscribed_{year}'] = df_country_counts_2['date_inscribed'].apply(\n",
    "        lambda x: 1 if str(year) in x.split(', ') else 0 )\n",
    "df_country_counts_2 = df_country_counts_2.drop(columns = \"date_inscribed\")"
   ]
  },
  {
   "cell_type": "code",
   "execution_count": 503,
   "metadata": {},
   "outputs": [],
   "source": [
    "df_combined_2 = pd.merge(df_country_counts_2, df_arrivals, on='country', how='right')\n",
    "df_combined_2= df_combined_2.fillna(\"0\")\n",
    "df_filtered = df_combined_2[df_combined_2['total_arrivals'] != 0]"
   ]
  },
  {
   "cell_type": "code",
   "execution_count": 479,
   "metadata": {},
   "outputs": [],
   "source": [
    "df_filtered.to_csv(\"/Users/katyakraft/Documents/IronHack/Final_project/data_frames/merged_tourism_data_2.csv\", index=False)"
   ]
  },
  {
   "cell_type": "code",
   "execution_count": null,
   "metadata": {},
   "outputs": [],
   "source": [
    "df_filtered.head()"
   ]
  },
  {
   "cell_type": "markdown",
   "metadata": {},
   "source": [
    "# HYPOTHESIS TESTING \n",
    "\n",
    "# 1. Hypothesis\n",
    "\n",
    "The Relationship Between UNESCO World Heritage Sites and Tourism Arrivals.\n",
    "\n",
    "(H₀): There is no significant correlation between the number of UNESCO sites and the number of tourist arrivals.\n",
    "\n",
    "(H₁): There is a significant positive correlation between the number of UNESCO sites and the number of tourist arrivals."
   ]
  },
  {
   "cell_type": "code",
   "execution_count": null,
   "metadata": {},
   "outputs": [],
   "source": [
    "df_filtered['site_count'] = pd.to_numeric(df_filtered['site_count'], errors='coerce')\n",
    "df_filtered['total_arrivals'] = pd.to_numeric(df_filtered['total_arrivals'], errors='coerce')\n",
    "df_filtered = df_filtered.dropna(subset=['site_count', 'total_arrivals'])\n",
    "\n",
    "# Drop rows with missing values\n",
    "df_filtered = df_filtered.dropna(subset=['site_count', 'total_arrivals'])\n",
    "\n",
    "# Plot\n",
    "plt.figure(figsize=(10, 6))\n",
    "sns.regplot(x='site_count', y='total_arrivals', data=df_filtered, line_kws={\"color\": \"red\"})\n",
    "plt.title('UNESCO Site Count vs. Total Tourism Arrivals')\n",
    "plt.xlabel('Number of UNESCO Sites')\n",
    "plt.ylabel('Total Tourism Arrivals')\n",
    "plt.show()"
   ]
  },
  {
   "cell_type": "markdown",
   "metadata": {},
   "source": [
    "# H1: Pearsons Correlation Test"
   ]
  },
  {
   "cell_type": "code",
   "execution_count": null,
   "metadata": {},
   "outputs": [],
   "source": [
    "# Convert relevant columns to numeric\n",
    "arrival_columns = [f'arrivals_{year}' for year in range(2007, 2019)]\n",
    "inscription_columns = [f'inscribed_{year}' for year in range(2007, 2019)]\n",
    "\n",
    "for column in arrival_columns + inscription_columns:\n",
    "    df_filtered[column] = pd.to_numeric(df_filtered[column], errors='coerce')\n",
    "\n",
    "\n",
    "#Calculate Pearson correlation\n",
    "correlation, p_value = pearsonr(df_filtered['site_count'], df_filtered['total_arrivals'])\n",
    "\n",
    "print(f\"Pearson Correlation Coefficient: {correlation:.4f}\") \n",
    "print(f\"P-value: {p_value:.4f}\")\n",
    "\n",
    "alpha = 0.05\n",
    "if p_value < alpha:\n",
    "    print(\"Reject the null hypothesis: There is a significant positive correlation between the number of UNESCO sites and tourism arrivals.\")\n",
    "else:\n",
    "    print(\"Fail to reject the null hypothesis: No significant correlation between the number of UNESCO sites and tourism arrivals.\")\n",
    "\n",
    "\n",
    "#Outcome: \n",
    "#Pearson Correlation Coefficient: 0.8089\n",
    "#P-value: 0.0000\n",
    "#Reject the null hypothesis: There is a significant positive correlation between the number of UNESCO sites and tourism arrivals.\n"
   ]
  },
  {
   "cell_type": "markdown",
   "metadata": {},
   "source": [
    "# 2. Hypothesis \n",
    "\n",
    "Low Tourism and Fewer UNESCO Sites\n",
    "\n",
    "Hypothesis Statements\n",
    "\n",
    "(H₀): There is no association between lower tourism arrivals and a lower count of UNESCO World Heritage sites.\n",
    "\n",
    "(H₁): Countries with lower tourism arrivals tend to have fewer UNESCO World Heritage sites."
   ]
  },
  {
   "cell_type": "code",
   "execution_count": null,
   "metadata": {},
   "outputs": [],
   "source": [
    "# Creating a new column categorizing low and high UNESCO site counts\n",
    "df_filtered['site_category'] = df_filtered['site_count'].apply(lambda x: 'Low' if x < 5 else 'High')\n",
    "\n",
    "plt.figure(figsize=(10, 6))\n",
    "sns.boxplot(x='site_category', y='total_arrivals', data=df_filtered)\n",
    "plt.title('Tourism Arrivals by Low and High UNESCO Site Counts')\n",
    "plt.xlabel('UNESCO Site Category')\n",
    "plt.ylabel('Total Tourism Arrivals')\n",
    "plt.show()"
   ]
  },
  {
   "cell_type": "markdown",
   "metadata": {},
   "source": [
    "# H2: Spearman's Correlation Test"
   ]
  },
  {
   "cell_type": "code",
   "execution_count": null,
   "metadata": {},
   "outputs": [],
   "source": [
    "spearman_corr, p_value = spearmanr(df_filtered['total_arrivals'], df_filtered['site_count'])\n",
    "\n",
    "print(f\"Spearman Correlation Coefficient: {spearman_corr:.4f}\")\n",
    "print(f\"P-value: {p_value:.4f}\")\n",
    "\n",
    "alpha = 0.05\n",
    "if p_value < alpha:\n",
    "    print(\"Reject the null hypothesis: There is a significant association between lower tourism arrivals and fewer UNESCO World Heritage sites.\")\n",
    "else:\n",
    "    print(\"Fail to reject the null hypothesis: No significant association between lower tourism arrivals and fewer UNESCO World Heritage sites.\")\n",
    "\n",
    "#Outcome: \n",
    "#Spearman Correlation Coefficient: 0.7030\n",
    "#P-value: 0.0000\n",
    "#Reject the null hypothesis: There is a significant association between lower tourism arrivals and fewer UNESCO World Heritage sites."
   ]
  },
  {
   "cell_type": "markdown",
   "metadata": {},
   "source": [
    "# 3. Hypothesis \n",
    "\n",
    "Comparing the difference in tourism arrivals between countries that have 10 or more UNESCO World Heritage sites and those with fewer.\n",
    "\n",
    "(H₀): There is no significant difference in tourism arrivals between countries with 10 or more UNESCO sites and those with fewer than 10 sites.\n",
    "\n",
    "(H₁): Alternative Hypothesis (H1): Countries with 10 or more UNESCO sites attract significantly higher tourism arrivals than those with fewer than 10 sites."
   ]
  },
  {
   "cell_type": "code",
   "execution_count": null,
   "metadata": {},
   "outputs": [],
   "source": [
    "# Creating a new column categorizing 10 or more sites\n",
    "df_filtered['ten_or_more_sites'] = df_filtered['site_count'].apply(lambda x: '10 or more' if x >= 10 else 'Less than 10')\n",
    "\n",
    "# Violin plot\n",
    "plt.figure(figsize=(10, 6))\n",
    "sns.violinplot(x='ten_or_more_sites', y='total_arrivals', data=df_filtered)\n",
    "plt.title('Tourism Arrivals for Countries with 10 or More vs. Fewer than 10 UNESCO Sites')\n",
    "plt.xlabel('UNESCO Site Count Category')\n",
    "plt.ylabel('Total Tourism Arrivals')\n",
    "plt.show()"
   ]
  },
  {
   "cell_type": "markdown",
   "metadata": {},
   "source": [
    "# H3: Two-sample T-test"
   ]
  },
  {
   "cell_type": "code",
   "execution_count": null,
   "metadata": {},
   "outputs": [],
   "source": [
    "#Split data into two groups based on `site_count`\n",
    "group_high = df_filtered[df_filtered['site_count'] >= 10]['total_arrivals']\n",
    "group_low = df_filtered[df_filtered['site_count'] < 10]['total_arrivals']\n",
    "\n",
    "t_stat, p_value = ttest_ind(group_high, group_low, equal_var=False) \n",
    "\n",
    "print(f\"T-statistic: {t_stat:.4f}\")\n",
    "print(f\"P-value: {p_value:.4f}\")\n",
    "\n",
    "alpha = 0.05\n",
    "if p_value < alpha:\n",
    "    print(\"Reject the null hypothesis: Countries with 10 or more UNESCO sites attract significantly higher tourism arrivals.\")\n",
    "else:\n",
    "    print(\"Fail to reject the null hypothesis: No significant difference in tourism arrivals between countries with 10 or more UNESCO sites and those with fewer.\")\n",
    "\n",
    "#Outcome: \n",
    "#T-statistic: 5.2577\n",
    "#P-value: 0.0000\n",
    "#Reject the null hypothesis: Countries with 10 or more UNESCO sites attract significantly higher tourism arrivals."
   ]
  },
  {
   "cell_type": "markdown",
   "metadata": {},
   "source": [
    "# 4. Hypothesis \n",
    "\n",
    "New Site Impact on Tourism.\n",
    "\n",
    "(H₀): There is no significant increase in tourism arrivals in the year following the announcement of a new UNESCO site compared to the previous year.\n",
    "\n",
    "(H₁): Tourism arrivals significantly increase in the year following the announcement of a new UNESCO site compared to the previous year."
   ]
  },
  {
   "cell_type": "code",
   "execution_count": 518,
   "metadata": {},
   "outputs": [],
   "source": [
    "# Melting the DataFrame to focus on inscription years\n",
    "inscription_years = df_filtered.melt(id_vars=['country', 'site_count'], \n",
    "                                        value_vars=inscription_columns,\n",
    "                                        var_name='year', \n",
    "                                        value_name='inscription')\n",
    "\n",
    "# Removing rows where the inscription is 0 or NaN\n",
    "inscription_years = inscription_years[inscription_years['inscription'] != 0]"
   ]
  },
  {
   "cell_type": "code",
   "execution_count": 520,
   "metadata": {},
   "outputs": [],
   "source": [
    "# Create lists for the arrivals data\n",
    "arrivals_before_list = []\n",
    "arrivals_after_list = []\n",
    "country_list = []  \n",
    "year_list = []  \n",
    "\n",
    "#Loop through each row in the melted DataFrame\n",
    "for index, row in inscription_years.iterrows():\n",
    "    country = row['country']\n",
    "    year_inscribed = int(row['year'].split('_')[1])  # Extract the year from the column name\n",
    "    \n",
    "    if year_inscribed - 1 >= 2007 and year_inscribed + 1 <= 2018:\n",
    "        # Get arrivals for the year before and after the inscription year\n",
    "        arrivals_before = df_filtered.loc[df_filtered['country'] == country, f'arrivals_{year_inscribed - 1}'].values\n",
    "        arrivals_after = df_filtered.loc[df_filtered['country'] == country, f'arrivals_{year_inscribed + 1}'].values\n",
    "        \n",
    "        if arrivals_before.size > 0 and arrivals_after.size > 0:\n",
    "            # Append the values to the lists\n",
    "            arrivals_before_list.append(arrivals_before[0])\n",
    "            arrivals_after_list.append(arrivals_after[0])\n",
    "            country_list.append(country)  \n",
    "            year_list.append(year_inscribed)  \n",
    "\n",
    "# Comparison DataFrame from the lists\n",
    "comparison_df = pd.DataFrame({\n",
    "    'country': country_list,\n",
    "    'year': year_list,\n",
    "    'arrivals_before': arrivals_before_list,\n",
    "    'arrivals_after': arrivals_after_list\n",
    "})\n",
    "\n",
    "# Removing rows where arrivals_before or arrivals_after are zero\n",
    "comparison_df = comparison_df[(comparison_df['arrivals_before'] != 0) & (comparison_df['arrivals_after'] != 0)]\n",
    "\n",
    "#Claculating the percentage change in arrivals\n",
    "comparison_df['percent_change'] = (\n",
    "    (comparison_df['arrivals_after'] - comparison_df['arrivals_before']) / comparison_df['arrivals_before']\n",
    ") * 100"
   ]
  },
  {
   "cell_type": "code",
   "execution_count": null,
   "metadata": {},
   "outputs": [],
   "source": [
    "comparison_df_sorted = comparison_df.sort_values('percent_change', ascending=False)\n",
    "\n",
    "plt.figure(figsize=(12, 6))\n",
    "plt.bar(comparison_df_sorted['country'], comparison_df_sorted['percent_change'], color='green')\n",
    "plt.xlabel('Country')\n",
    "plt.ylabel('Percentage Change in Arrivals')\n",
    "plt.title('Percentage Change in Tourism Arrivals After New UNESCO Site Inscription')\n",
    "plt.xticks(rotation=90)\n",
    "plt.tight_layout()\n",
    "plt.show()"
   ]
  },
  {
   "cell_type": "markdown",
   "metadata": {},
   "source": [
    "# H4: Paired T-test"
   ]
  },
  {
   "cell_type": "code",
   "execution_count": null,
   "metadata": {},
   "outputs": [],
   "source": [
    "t_stat, p_value = ttest_rel(comparison_df['arrivals_before'], comparison_df['arrivals_after'])\n",
    "\n",
    "print(f\"T-statistic: {t_stat:.4f}\")\n",
    "print(f\"P-value: {p_value:.4f}\") \n",
    "\n",
    "alpha = 0.05 \n",
    "\n",
    "if p_value < alpha:\n",
    "    print(\"Reject the null hypothesis: Tourism arrivals significantly increase in the year following the announcement of a new UNESCO site.\")\n",
    "else:\n",
    "    print(\"Fail to reject the null hypothesis: No significant increase in tourism arrivals following the announcement of a new UNESCO site.\")\n",
    "\n",
    "#Outcome: \n",
    "#T-statistic: -7.1748\n",
    "#P-value: 0.0000\n",
    "#Reject the null hypothesis: Tourism arrivals significantly increase in the year following the announcement of a new UNESCO site."
   ]
  },
  {
   "cell_type": "markdown",
   "metadata": {},
   "source": [
    "# Merged Data of Hypothesis 4\n",
    "\n",
    "For final analysis of hypothesis 4 in Tableau I merged the data frame and kept relevant columns before exporting. "
   ]
  },
  {
   "cell_type": "code",
   "execution_count": null,
   "metadata": {},
   "outputs": [],
   "source": [
    "merged_df = comparison_df.merge(df_country_counts_2[['country', 'site_count']], on='country', how='left')\n",
    "\n",
    "# Create 'site_category' based on the number of UNESCO sites\n",
    "merged_df['site_category'] = merged_df['site_count'].apply(lambda x: '10 < ' if x >= 10 else '0-10')"
   ]
  },
  {
   "cell_type": "code",
   "execution_count": 498,
   "metadata": {},
   "outputs": [],
   "source": [
    "merged_df.to_csv('/Users/katyakraft/Documents/IronHack/Final_project/data_frames/comparison_data_hyp_4_final.csv', index=False)"
   ]
  }
 ],
 "metadata": {
  "kernelspec": {
   "display_name": "base",
   "language": "python",
   "name": "python3"
  },
  "language_info": {
   "codemirror_mode": {
    "name": "ipython",
    "version": 3
   },
   "file_extension": ".py",
   "mimetype": "text/x-python",
   "name": "python",
   "nbconvert_exporter": "python",
   "pygments_lexer": "ipython3",
   "version": "3.12.4"
  }
 },
 "nbformat": 4,
 "nbformat_minor": 2
}
